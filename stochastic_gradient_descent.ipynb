{
  "nbformat": 4,
  "nbformat_minor": 0,
  "metadata": {
    "colab": {
      "name": "stochastic_gradient_descent.ipynb",
      "version": "0.3.2",
      "provenance": [],
      "toc_visible": true
    },
    "kernelspec": {
      "display_name": "Python 2",
      "language": "python",
      "name": "python2"
    }
  },
  "cells": [
    {
      "metadata": {
        "id": "keDGlOgG54Ag",
        "colab_type": "code",
        "colab": {}
      },
      "cell_type": "code",
      "source": [
        "#Traduzindo e adaptando este artigo https://github.com/dtnewman/gradient_descent\n",
        "# versão interativa https://colab.research.google.com/drive/1B84z53Am_OWHGZQL0fO23BFG4UzKsbZu#scrollTo=V60lFf-J54Am
        "%matplotlib inline\n",
        "import numpy as np\n",
        "import scipy as sp\n",
        "import matplotlib.pyplot as plt\n",
        "import random\n",
        "from scipy import stats\n",
        "from scipy.optimize import fmin"
      ],
      "execution_count": 0,
      "outputs": []
    },
    {
      "metadata": {
        "id": "8BHauluu54Aj",
        "colab_type": "text"
      },
      "cell_type": "markdown",
      "source": [
        "### Gradiente Descente ou  método do gradiente ou método do máximo declive."
      ]
    },
    {
      "metadata": {
        "id": "hESqoLan54Ak",
        "colab_type": "text"
      },
      "cell_type": "markdown",
      "source": [
        "<b> Gradient descent </b>, é um algoritmo de otimização para encontrar o mínimo local de uma função. Para encontrar um mínimo local, a função \"passos\" na direção do negativo do gradiente. <b> Subida de gradiente </b> é a mesma que a descida de gradiente, exceto que ela avança na direção do positivo do gradiente e, portanto, encontra máximos locais em vez de mínimos. O algoritmo do gradiente descendente pode ser descrito da seguinte forma:\n",
        "\n",
        "&nbsp;&nbsp;&nbsp; 1: &nbsp; Escolha a suposição inicial $x_0$ <br>\n",
        "&nbsp;&nbsp;&nbsp;    2: &nbsp; <b>for</b> k = 0, 1, 2, ... <b>do</b> <br>\n",
        "&nbsp;&nbsp;&nbsp;    3:   &nbsp;&nbsp;&nbsp;&nbsp;&nbsp; $s_k$ = -$\\nabla f(x_k)$ <br>\n",
        "&nbsp;&nbsp;&nbsp;    4:   &nbsp;&nbsp;&nbsp;&nbsp;&nbsp; escolha $\\alpha_k$ para minimizar$f(x_k+\\alpha_k s_k)$ <br>\n",
        "&nbsp;&nbsp;&nbsp;    5:   &nbsp;&nbsp;&nbsp;&nbsp;&nbsp; $x_{k+1} = x_k + \\alpha_k s_k$ <br>\n",
        "&nbsp;&nbsp;&nbsp;    6: &nbsp;  <b>end for</b>"
      ]
    },
    {
      "metadata": {
        "id": "jzVc174W54Al",
        "colab_type": "text"
      },
      "cell_type": "markdown",
      "source": [
        "Com um exemplo simples, vamos encontrar um mínimo local para a função $f(x) = x^3-2x^2+2$"
      ]
    },
    {
      "metadata": {
        "id": "V60lFf-J54Am",
        "colab_type": "code",
        "colab": {}
      },
      "cell_type": "code",
      "source": [
        "f = lambda x: x**3-2*x**2+2"
      ],
      "execution_count": 0,
      "outputs": []
    },
    {
      "metadata": {
        "id": "oc5Fbg3N54Ao",
        "colab_type": "code",
        "outputId": "95535510-92ea-47b6-a7ad-becbda44d1a2",
        "colab": {
          "base_uri": "https://localhost:8080/",
          "height": 269
        }
      },
      "cell_type": "code",
      "source": [
        "x = np.linspace(-1,2.5,1000)\n",
        "plt.plot(x,f(x))\n",
        "plt.xlim([-1,2.5])\n",
        "plt.ylim([0,3])\n",
        "plt.show()"
      ],
      "execution_count": 0,
      "outputs": [
        {
          "output_type": "display_data",
          "data": {
            "image/png": "iVBORw0KGgoAAAANSUhEUgAAAXkAAAD8CAYAAACSCdTiAAAABHNCSVQICAgIfAhkiAAAAAlwSFlz\nAAALEgAACxIB0t1+/AAAADl0RVh0U29mdHdhcmUAbWF0cGxvdGxpYiB2ZXJzaW9uIDIuMS4yLCBo\ndHRwOi8vbWF0cGxvdGxpYi5vcmcvNQv5yAAAIABJREFUeJzt3Xd8XOWd7/HPjHqXrC7ZkmxZflTc\nK8bYBsyaZiCAgQRSyJIlN5VNdvdmc7M3N/fyWkihJCS7YbMpJMvSezElmICNjXGXZVt+rG41W73X\nmTn3j5GIotjSSIx05sz83q8XL6w5R/LXx/bXj555znNshmEghBDCP9nNDiCEEGLmSMkLIYQfk5IX\nQgg/JiUvhBB+TEpeCCH8mJS8EEL4seDJTlBKRQKPAalAOHCv1vq1McevAO4DnMAOrfW9MxNVCCHE\nVHkykr8OOKi13gzcCjw07vgjwM3ABmCrUqrQuxGFEEJM16Qjea3102M+nAfUjX6glFoAtGmta0c+\n3gFsAU56OacQQohpmLTkRyml9gJzgW1jXk4Dmsd83ATkTvR1DMMwbDbbVDIKIYTPaOno54v3vs26\nojT+5W/XzeZPPa3i9LjktdYXK6WWA48rpZZprc+3H8KkIWw2G83N3VPJ6FOSk2Mkv4kkv3msnB28\nl/+jk+cAyE6JntXrkZwcM63Pm3ROXim1Sik1D0BrfRT3PwzJI4cbcI/mR2WOvCaEEH6prK4DgLy5\ncSYn8Ywnb7xuAv4BQCmVCkQDLQBa62ogVimVo5QKxj2V8/bMRBVCCPOV1XUSEmwnO216I+vZ5knJ\nPwqkKKV2A68DXwM+r5S6ceT4V4Angd3A01rr0zOSVAghTNY34KCuqYcF6bEEB1njNiNPVtf0A7dP\ncHwXsN6boYQQwhdVNHRiAHnzrDFVA3LHqxBCeOzP8/HxJifxnJS8EEJ4qKy2ExuQmyEjeSGE8CsO\np4vKxi7mpkQTGe7x6nPTSckLIYQHas52M+xwWWbp5CgpeSGE8EBZXSdgrfl4kJIXQgiPWO0mqFFS\n8kIIMQnDMCir6yQxNpw5seFmx5kSKXkhhJjE2bY+evqHLbU+fpSUvBBCTOJ07chUTaaUvBBC+B09\nUvIqK8HkJFMnJS+EEBMwDAN9poPYyBDSEyPNjjNlUvJCCDGBpo5+2rsHUVkJWPGBR1LyQggxAX3G\nPVWTn2Wt9fGjpOSFEGICp860A9acjwcpeSGEuCCrz8eDlLwQQlyQ1efjQUpeCCEuyOrz8SAlL4QQ\nF2T1+XiQkhdCiPPyh/l4kJIXQojz8of5eJCSF0KI8/KH+XiQkhdCiPPyh/l4kJIXQoi/4i/z8SAl\nL4QQf+Vcu3/Mx4OUvBBC/JWT1W0AFOZYe6oGpOSFEOKvnKx2z8cX5swxOcknJyUvhBBjuFwGpTXt\nJMeHkxwfYXacTyzYk5OUUj8GNo6cf7/W+oUxx6qBWsA58tIdWut678YUQojZUXW2i/5BB2sLUsyO\n4hWTlrxS6jJgsdZ6vVIqETgCvDDutKu11j0zEVAIIWaTP03VgGfTNbuAW0Z+3AFEKaWCZi6SEEKY\np7S6DRtQkG39N13Bg5G81toJ9I58eBewY+S1sR5VSuUAHwDf1VobXk0phBCzYHDISXl9J1lpMURH\nhJgdxys8mpMHUErdgLvkt4479H3gTaANeAm4GXhuoq+VnBwztZQ+RvKbS/Kbx8rZYfL8h0814XAa\nrC5ItfyvdZSnb7xeCXwPuEpr3Tn2mNb6D2PO2wEsYZKSb27unnpSH5GcHCP5TST5zWPl7OBZ/g+L\n3WtGclKjfe7XOt1/dCadk1dKxQE/AbZprdvGH1NKvaWUCh15aTNwfFpJhBDCZCeq2wgOspOXGWd2\nFK/xZCR/G5AEPKOUGn3tXaBEa/3iyOh9n1KqH/fKmwlH8UII4Yu6eoeobeqhIDuB0BD/WVviyRuv\nvwJ+NcHxnwE/82YoIYSYbaU1o0sn/WNVzSi541UIIYDjla0AFM33j/Xxo6TkhRABz2UYlFS1ERsZ\nQlaqf6yqGSUlL4QIeLXneujqHWLxgkTsFt9aeDwpeSFEwCsZmapZvMC/pmpASl4IIThe2YrNBovn\nJ5odxeuk5IUQAa1vYJjy+i4WpMf6zVYGY0nJCyEC2snqdlyGweIF/jeKByl5IUSAG52PXyIlL4QQ\n/sUwDI5XtREdEUJOmn8tnRwlJS+ECFj1zb20dw+yeP4c7Hb/Wjo5SkpeCBGwSqr8d+nkKCl5IUTA\nKqkYKXk/XDo5SkpeCBGQegeGOV3byfz0WGKjQif/BIuSkhdCBKSSylZchsHyvCSzo8woKXkhREA6\nWtYCwPKFUvJCCOFXHE4XJZVtJMaGMzc5yuw4M0pKXggRcMpqO+gfdLB8YRI2P9t1cjwpeSFEwDla\n7l5VsyzPf1fVjJKSF0IEFMMwKC5vITw0CDXPvx71dz5S8kKIgNLQ2kdTRz+L588hJNj/K9D/f4VC\nCDFGcfnIqho/Xzo5SkpeCBFQjpa1YLPB0lwpeSGE8CtdvUNU1HeSlxnnlw8IOR8peSFEwDhS1owB\nLM9LNjvKrJGSF0IEjEO6GYBVSkpeCCH8Sk/fEKU17WSnxpAcH2F2nFkjJS+ECAj7T57F6TICahQP\nUvJCiACx91gjEFhTNQDBnpyklPoxsHHk/Pu11i+MOXYFcB/gBHZore+diaBCCDFd/YMODusmMpOi\nSE/07w3Jxpt0JK+UugxYrLVeD1wF/HTcKY8ANwMbgK1KqUKvpxSfmGEYuAwDp8vAMAyz4wgxq0oq\nWxl2uAJuFA+ejeR3AftHftwBRCmlgrTWTqXUAqBNa10LoJTaAWwBTs5IWjEhwzBobO2jqrGL2qYe\n6pt7aOsepKt3iN4Bx8fnBdltREeEEB0ZQnJcBOmJkWQkRbEwM46UhAi/35VPBJ6DH6+qSTE5yeyb\ntOS11k6gd+TDu3BPyThHPk4Dmsec3gTkTvY1k5NjphjTt/hSfqfLoPh0Mx8U13PkdDMtHf1/cTwm\nMoQ5cRHkZIRit9mw2WBw2El37xAd3YPUN/dytPzP58fHhFG0IJF1RWmsKUzzyRtGfOn6T4eV81sx\n++Cwk+OVraQnRbGiMC3gBjEezckDKKVuwF3yWyc4zaOr19zc7elP63OSk2N8In979yDvHq5jT0kj\nHT1DAESFB7MmPwWVFU9WSgyZyVFEhP3lb/H4/N19QzS29lHb1ENZXQenazvYU9zAnuIGguw2CnIS\nuGRJOivykn1iMydfuf7TZeX8Vs1++HQzA0NOLl6STktLj9lxpm26/8B6+sbrlcD3gKu01p1jDjXg\nHs2Pyhx5TcyQpo5+3thXw56SRhxOg4iwYC5dnsH6xWnkZsRht09tlBITGUpMZCiL5sWzZdVcDMOg\nobWPw6ebOaybOV7ZxvHKNqIjQrhkSTpbVs0lMS58hn51Qnjf/tJzAFy8NMPkJOaYtOSVUnHAT4Ar\ntNZtY49prauVUrFKqRygDtgG3DETQQNd/6CDV/dW88cDtThdBikJEVy9Lov1RWmEhgR57eex2Wxk\nJkWRmRTFdRfn0Njay67iBvaUnOXN/Wf448FaLipK5ZqLsgNulYKwnsEhJ0fLW0iJjyBvXrylR/LT\n5clI/jYgCXhGKTX62rtAidb6ReArwJMjrz+ttT7t9ZQB7qOT53hyZxldvUMkxoZz8+YFrC1InfKo\nfTrSE6O47fI8btqUy/7Sc+zYV8OekrPsLTnLmoIUbtqcS0oA3T0orOVoeQtDwy7WFqYG3Fz8KE/e\neP0V8KsJju8C1nszlHDr6R/m8bc1+0ubCA2286mN87lqbZZXR+6eCgm2s2FJOusXp3HkdAuv7a1m\nf2kTh3Qzl6+cy3UbcnzyTVoR2D466Z6qWVeYanIS83j8xquYXadrO/jly8fp7BkiNzOWL20rJDUh\n0uxY2G02VqlkVixK4kBpE8+/X8EfD9ayp6SR7ZflsmlZBvYAHTEJ39I7MExJZStzk6PJTArcqUUp\neR9jGAbvHq7nqZ1lGAbcvHkBV6/LnpWpmamw22ysK0xl5aJk/nS4jpc+qOIPb2r2lDTyhSvzmZsS\nbXZEEeAO6WacLoN1hYG3Nn4sKXkf4nC6ePxtza7iRmIiQ/jqpxajsnz7QcMhwXa2rs1iTUEqT+4s\n4+CpJn7wuwNcfVEW12+Y7xPLLkVgGp2qWVsQuFM1ICXvMwaHnTz60nGKK1rJTo3h6zctsdRSxYSY\nML76qcUcq2jl8bc1r39YQ3F5K3dfVyijejHrOnsGOXWmndyM2IDaVvh8ZJjlA3oHhnnw6aMUV7RS\nNH8O37ljhaUKfqyluYn8379dy6ZlGdQ19/D/fn+AN/bV4HLJfjli9uw/1YRhwNoAfsN1lJS8yfoG\nhnngqaOU13WytiCFe7YvJTzU2t9gRYQFc+fV+dyzfSmR4SE8+14FDz1zlM7eIbOjiQCx/+Q5bDZY\nmx/Y8/EgJW+q/kEHDz9TTM3Zbi5Zms7d1xcRHOQ/vyXLFiZx711rWZabyMnqdn7w2/3oM+1mxxJ+\nrrG1l4qGLgqzE4iLDjM7jun8p1EsZnDYySPPHaOioYuLilK586p8v1x6GBMZyje2L+WWy3Lp7hvm\nx08e4dW91bhku2MxQ/YePwvAhqXpJifxDVLyJnAZBr9+9SS6toPVKpm7ri3wuSWS3mS32bh6XTb/\nfMdK4qPDeHFXJb94voT+QcfknyzEFLhcBnuPnyUiLIiVeYG3d/z5SMmb4Nk/lXPodDP5WfHcfX0R\nQfbA+G1YODeOH3xxDQXZCRwtb+Ff/+sQTe19ZscSfuRkTRvt3YOsLUg15c5wXxQY7eJD3j1cx1v7\na0lPjORrNy3xqzl4T8REhvLt25Zxxeq5NLT0cu/vD3Kium3yTxTCA3tLRqZqFstUzajAahiTnapp\n54k/lhEbGcLf37KMqPDA3OslyG7n9isW8cWr8xkYcvLQ00d552Ct2bGExfUNODh0upnUhAhyM2PN\njuMzpORnSXv3II++fBybDb5645KAv0EDYOOyDL5z+0piIkN54p0yntpZJm/Iimk7cOocww4XG5ak\nB+yOk+cjJT8LHE4Xv3zpOF19w9x62UIWzYs3O5LPWDg3jn/5/CrSEyN5+0Atv3zpOEPDzsk/UYhx\n9pScxQZcvDht0nMDiZT8LHjuvQrK6903O12xeq7ZcXxOUlwE/+tzq1Dz4jmkm3ngqaN098mNU8Jz\nja29lNd3UpiTwJxYa94tPlOk5GfY8apW3j5QS9qcSO68Ol++jbyAqPAQvn3bctYVplJe38l9svJG\nTMH7R91PHb0kQB/xNxEp+RnU3TfEb14rJchu48vXF1l+u4KZFhJs5++uK+Sai7I5197PfY8f5sw5\n6z04WsyuYYeTPSXunVtXKVkbP56U/AwxDIPH3jhFZ+8QN25aQHba9J60HmjsNhvbL83ls1sX0d07\nxI+eOEJZXYfZsYQPO6ib6R1wcMmS9IBbkuwJuSIzZE/JWY6UtaDmxXPV2iyz41jO5Svn8nfXFTI0\n7OTBp45SUtlqdiTho94/Ug/ApuUyVXM+UvIzoLN3iKffLSMsNIi7tvn3lgUz6aKiNL5+0xIM4JHn\njrG/9JzZkYSPqW/p5XRdJ0U5CT7xeExfJCU/A57442l6Bxxs35xLUpysh/8kli1M4h9uW05oiJ3/\nePkEb3xYbXYk4UPeP+oexW9enmlyEt8lJe9lR8qaOXCqidzMWC5bIX/wvGHRvHj+52dWEh0Zwr8/\nV8wbH9WYHUn4gKFhJ3tLzhIXFcryvCSz4/gsKXkv6htw8PjbpwkOsnHn1TJN403ZaTF897OrSIoL\n59k/VfDq3mqzIwmT7Tt5jr5BBxuXyRuuE5Er40Uvf1BFe/cg167PITMpyuw4fidtTiT3f+0SEmPD\neXFXJS/trsSQbRACkmEYvHOwFrvNxmUr5AbDiUjJe0l9Sy87D9WREh/BNRdlmx3Hb6UlRvGdO1aQ\nHB/OK3uqeWGXFH0gOnWmg7rmXlbnJ5MQI09/moiUvBcYhsGT75zGZRh8ekseIcFyWWdSUlwE37l9\nJalzInn9wxqe+VO5FH2AGd219IrV80xO4vukjbzgSFkLJ6vbWbxgDssWJpodJyDMiQ3nO7evID0x\nkrf21/LEO2VS9AGiqaOfo2UtzE+PITdDthSejEf32SulFgMvAw9rrX8x7lg1UAuMbh14h9a63osZ\nfdrQsJOndpYRZLfxmS15sjfNLIqPDuM7t6/kgaeOsPNQHU6XwWe3LvLLZ+WKP3v3UB0G7lG8/H2b\n3KQlr5SKAn4O7JzgtKu11j1eS2Uh7xyqo6VzgCvXziM9Ud5snW2xUaH802dW8OBTR3nvSD1Op4sv\nXO2fD0UX0D/oYPexBuKiQ1mTn2J2HEvwZLpmELgGaJjhLJbT0z/M6x/WEBUezHUX55gdJ2DFRIby\nj59ZQXZaDLuPNfK7HaW4XDJ14492FTfQP+jk8hWZsmzSQ5OO5LXWDsChlJrotEeVUjnAB8B3tdYT\n/g1LTrb2Zl2j+V979QT9gw6+uK2I7HlzTE7lOX+5/n/xGvDDr2/k+/+xlz0lZwkLC+Gbt60gyAfv\nVbDy9Tcz+7DDyR8P1hEeGsQtW/OJiQyd8tew8rWfLm/sfft94E2gDXgJuBl4bqJPaG627vaxyckx\nNDd309Y1wKsfVJIQE8ZF+UmW+TWN5reqyfLfc/NSHnrmKO8erKW/f4i7ri30qZvSrHz9zc6+u7iB\ntq4Btq6Zx0DvIAO9g1P6fLPzf1LT/QfqE3+/o7X+g9a6aWTEvwNY8km/phW8/EEVww4Xn7pkPiHB\nQWbHESMiw4P59q3Lyc2I5cMT5/jP107idLnMjiU+IZdh8MZHZwiy29i6RpZNTsUnKnmlVJxS6i2l\n1Oj3TZuB4588lm9rbO3lg5JG0hMjuXiJPE/S10SGB/Pt25azMDOOj06e4z9flaK3uiOnWzjb1sf6\nojR5vN8UebK6ZhXwIJADDCultgOvAFVa6xeVUjuAfUqpfuAIk0zV+INX9lRjGHDTplyC7PLmjy+K\nCAvmW7cu46fPFrO/tAmXAXdfVyhv1lmQYRjs2FeDDbhqnTybYao8eeP1EHDpBMd/BvzMi5l8Wl1T\nN/tPnmNeSjQrF8nOd77sz0V/jIOnmjAMgy9fXyRFbzEna9qpauxi5aJkMmRPqCmTP+1T9OzOMgzg\n+g05ciOGBYSHBvOtW5aRnxXPId3Moy+fwOGUqRurMAyDl3ZXArDtYtkTajqk5KfgXHsf7x2uIzM5\nihWL5IHBVhEWGsQ9tyyjIDuBw6eb+eVLx6XoLeJ4VRsV9V2syEsiJ022MJgOKfkpeP3DGlwug+su\nzpE7Ki0mLCSIb25fSmFOAkfKWvi3F0oYdkjR+7Kxo/gbLplvchrrkpL3UEtHPx8eP8u81GhWK7md\n2orCQoL45s1LKZo/h+KKVv7txRKGHc7JP1GYoriilarGblarZLJSA+8mJm+RkvfQm/vP4HQZ3Lpl\nkU/dXCOmJjQkiG/evITFC+ZwrKKVn78gRe+LRkfxNuB6GcV/IlLyHujpH+aDY40kxoazUR4YbHkh\nwUF846YlLM1N5HhlG488X8LQsBS9Lzmkmzlzroc1BSnMTY42O46lScl74N3DdQw5XGxdM48gWX7n\nF0KCg/jajUtYlpvIiao2Hnn+GINS9D7B4XTx3HsVBNlt3LhxgdlxLE8aaxLDDic7D9URGRbMxmXp\nZscRXhQSbOerNy5h+cIkTla388hzUvS+4E+H62nq6OfSFZmkzok0O47lSclPYu/xs3T3DXPZykzC\nQ72xn5vwJe6iX8yKvCRKa9r52bPFDA5J0Zulb2CYV/ZUEREWxPUbcsyO4xek5CfgMgze2l9LkN3G\nllXyRHh/FRxk5yufWsyqRcmcOtPBw88WMzDkMDtWQHrtwxp6BxxsW58zra2ExV+Tkp9AcfmfN0WK\nj5Ynwvuz4CA7X76hiNUqmdO1HTz8TDH9g1L0s6m5o593DtaSGBvGFatlUOUtUvIT2HmoDoCta2Vr\n00AQHGTn7uuLWJOfQlldJw8/K0U/m558pwyH0+DmzbmyfbcXSclfQGNrLyer28nPipclXAHEXfSF\nrCtMpbyuk4eeOUrfgBT9TDta1sLR8hbys+JZV5hqdhy/IiV/Ae8ergfg8pXybWOgCbLb+dK2Ai4q\nSqWivkuKfoYNDjt54p3TBNlt3LFVycZ/XiYlfx79gw72lDQSHx3K8jzZTjgQBdntfOnaQtYXpVHZ\n0MWDTx+hb2DY7Fh+6fUPa2jpdD/WL1O2EvY6Kfnz2HfiLANDTi6VJ8IHNLvdxl3XFrBhSRpVjd08\n8NRReqXovaqxtZc3P6ohISaM62TJ5IyQBhvHMAx2Hq4nyG5j87IMs+MIk9ntNr54TQGXLE2n+mw3\nDzx5lJ5+KXpvcLkMfrfjFA6nwe1XLJL7UGaIlPw4+kwHDS29rFLJxMmySQHYbTbuvDqfTcvSqTnX\nzQNPHpGi94J3DtZSXt/JmvwUVil5PsNMkZIf593D7mWTcvOTGMtus/H5q/K5dHkGZ5p6+OF/H6at\na8DsWJZ1rq2P53dVEh0Rwh1bF5kdx69JyY/R1TvEkbIW5iZHsTAzzuw4wsfYbTY+e6XiitVzaWjp\n5b7HD1Hf0mt2LMtxulz8Zkcpww4Xn7tSESt3ts4oKfkx9h4/i9NlsHFZhizjEudlt9n4zJY8tl+a\nS1vXID98/BDldZ1mx7KU1/bWUF7Xyer8FNbkywN4ZpqU/AjDMNh9rIHgIBvri9LMjiN8mM1m45qL\nsrnr2gL6B5385KkjHClrNjuWJegz7byyp4rE2DC+cJUyO05AkJIfUVHfRWNrHysXJRMdEWJ2HGEB\nG5ak883tS7HZ4BcvlLCruMHsSD6tp3+YX716Ehs27r6+iKhw+Xs2G6TkR+w65v4LunGpLJsUnlua\nm8j//MxKosJDeOyNUzz3XgUuwzA7ls9xGQa/ee0k7d2D3HBJDnlz482OFDCk5HHf4XqgtInE2HAK\nchLMjiMsZkFGLN/73CpSEyLYsa+Gf3/xuOxJP87Lu6sormilKCeBa9fnmB0noEjJAwdONTE47GTj\n0nTs8oarmIbUOZF87/Oryc+K5/DpZn7434dp7x40O5ZPOKSbeHVvNcnx4Xz5hsXY7fJ3bDZJyQO7\nixuw4Z5jFWK6oiNC+PZtyz++aere3x+gqrHL7Fimqm3q4devlxIaYucbNy2V97tM4FHJK6UWK6Uq\nlFJfP8+xK5RS+5VSHyql/rf3I86sxtZeKhq6KJo/h8S4cLPjCIsLDrLzhavyue3yhXT2DHH/44fZ\nfSww35Bt7Rzg4WeOMjjk5K5rC5mbIlt2m2HSkldKRQE/B3Ze4JRHgJuBDcBWpVSh9+LNvA9PnAVk\nFC+8x2azceXaLO65ZRlhIXZ+t+MUj71ximFH4MzT9/QP89AzR+noGeLWyxbKengTeTKSHwSuAf5q\nOKKUWgC0aa1rtdYuYAewxbsRZ47LMNh34hxhoUGypbDwuqW5iXz/zjVkpUazq7iB+x8/TFNbn9mx\nZtzAkINHnj9GY2sfW9fM46p1WWZHCmiTbvumtXYADqXOe+NCGjD2LpAmIHeyr5mcHONpvhl1orKV\nls4BLl89j7kZni/p8pX80yX5Z09ycgwPfetSfvl8MTsP1PL3D7/HN25dwXqLfuc42bXvH3Tw4K/3\nUV7XyaYVmXzt1hU+9Uarlf7seIu39/b06Hezubnbyz/t9Ly5pxKAFQsTPc6UnBzjM/mnQ/Kb4/bL\nF5KZGMlT75Rx32P72bw8g09fnkdYqHWeZTrZtR8YcvDTZ4o5XefeWfJzf5NHa2vPLCacmFX/7Iya\n7j9Qn3R1TQPu0fyoTM4zreOLhh0uDpxqIi46lIIsWRsvZpbNZuPS5Zk8/K3NzEuJ5v2jDfzgsQNU\nn/WP1TddfUM88NTRjwv+7usLCbLL4j1f8Il+F7TW1UCsUipHKRUMbAPe9kawmVZS2UrvgIN1Bak+\n9e2k8G9ZabH8y+dXs3XNPM619fGvfzjE8+9XWPpN2XPtfdz3X4eobOhifVGaFLyPmXS6Rim1CngQ\nyAGGlVLbgVeAKq31i8BXgCdHTn9aa316hrJ61b6RVTWyGZmYbSHBdj69JY8lCxJ57I1SXv+whoO6\nmTuvUiiLfVepz7Tzby8ep6d/mG0XZ3PjxgWyg6uP8eSN10PApRMc3wWs92KmGdc3MMzR8lYykqLI\nSpW1u8IcRfPncO+X1vHC+5XsPFTHj544wqZl6dy0KZfYKN/eY91lGLz50Rmef78CGzY+f5Xi0uWZ\nZscS5xGQD1U8qJtxOF2sL0qVUYcwVXhoMLf/zSLWFaby2Jun2FXcyP7SJq67OIcrVs8jJNj3pj06\negb5/RunKK5oJT46lP9xw2IWzZMNx3xVQJb8gdJzAKwrSDU5iRBuuZlx/OCLa3j/aAMv7a7i2fcq\n+NORem7cuIC1hSk+McdtGAZ7Shp58p0y+gYdFGQn8OXri3z+u45AF3Al3903RGlNB/PTY0mKjzA7\njhAfC7LbuXzlXNYVpvLqnmp2HqrjP187yct7qti2PoeLilIJDjKn7KvPdvHT545xrLyFsNAgPrt1\nEZeuyJQN/Swg4Er+8OlmXIYht1kLnxUVHsKnt+Rxxeq57Nh3ht3FDfx2RykvfVDJ5uWZbFqWQdws\njZ7rW3p5fW81+066v/tdmpvIZ7cuIilOBkhWEXAlf+BUEwCr85NNTiLExJLiIvj8lYpt67N546Mz\nfFDSyIu7KnnlgypWLEpmXUEqS3PnEBLs3RuqnC4XJ6vbeedgHSWVrQBkp8bwd59aQkaCbOJnNQFV\n8l19Q5yq6WBBRqyMRIRlzIkN546/WcRNmxaw9/hZ3j1cx8FTTRw81UR4aBBLcxMpyE6gIGcOKdOc\nghwcclJe38mRsmYOnmqiq28YgLy5cWxdk8WKRUmkpsRa+o7RQBVQJS9TNcLKIsKC2bJqLpevzOTM\nuR72l55jf2nTx/8BxEeHMi8lhnkp0STFhxMfHUZcVCghQXaCgmw4XQZ9Aw56+4dp7uinsa2PuqYe\nqs9243S5H1sYHRHCZSsyuWTgRkIDAAAKZ0lEQVRpOvPTY838JQsvCKiSPzDyF2G1kpIX1mWz2chO\niyE7LYbtl+bS2NpHaU07J6vbqD7bTUll68fTLJ6wj3w9lRVPYU4CBdkJPrGaR3hHwJR8V98Qp860\nk5sRKw8HEX7DZrORkRRFRlIUW1bNBdx7udc399DaNUB79yDdfcM4nC6cLgO7zUZkeDBR4SEkxoWT\nPieSlIQIQkOss1GamJqAKfnDuhnDgNUyVSP8XHREiOW2RxAzJ2C+J/t4VY1M1QghAkhAlHxP/zD6\njPsGKJmqEUIEkoAo+WMVLbgMg5WL5BF/QojAEhAlf+R0CwArF8kNUEKIwOL3JT807KSkqpW0OZGk\nJ0aZHUcIIWaV35f8yep2hoZdrMiTqRohRODx+5I/XNYMwAqZqhFCBCC/LnmXy6C4vIXYqFAWZMjt\n2UKIwOPXJV9e30l33zAr8pJk32shREDy65I/MjpVkydTNUKIwOS3JW8YBkdOu59iU5Att3gLIQKT\n35Z8Q0svTR39LFmQ6JMPQxZCiNngt+1XXOHeanX5wkSTkwghhHn8tuSPVbRiAxYvkJIXQgQuvyz5\n3oFhyus6WZARS2zk7DzwWAghfJFflvyJqjZchsGSXBnFCyECm1+W/LGR+fhlubKVgRAisHn0ZCil\n1MPARYAB3KO1PjDmWDVQCzhHXrpDa13v3ZiecxkGJZWtxEWHkpUabVYMIYTwCZOWvFJqM5CntV6v\nlCoAfgusH3fa1VrrnpkIOFVVjV109w1zydJ0bHKXqxAiwHkyXbMFeAlAa10KJCilfHYjmGPlo1M1\nMh8vhBCeTNekAYfGfNw88lrXmNceVUrlAB8A39VaG15LOEXHKlsJstsozJljVgQhhPAZHs3JjzN+\nDuT7wJtAG+4R/83AcxN9geTkmGn8tJNr6xqg5mw3y/KSyJo7c1sZzFT+2SL5zWXl/FbODtbPPx2e\nlHwD7pH7qAygcfQDrfUfRn+slNoBLGGSkm9u7p5aSg/tLm4AIH9e/Iz9HMnJMTP2tWeD5DeXlfNb\nOTv4R/7p8GRO/m1gO4BSaiXQoLXuHvk4Tin1llJq9I6jzcDxaSXxgpKqNgCWyny8EEIAHozktdZ7\nlVKHlFJ7ARfwNaXUnUCn1vrFkdH7PqVUP3CESUbxM8XlMiitbiMxNoy0OZFmRBBCCJ/j0Zy81vqf\nx71UPObYz4CfeTPUdNSc66Z3wMEqlSxLJ4UQYoTf3PF6fGSqpmi+TNUIIcQovyn5E1Vt2EAeECKE\nEGP4Rcn3DzqoqO8kJz2W6IgQs+MIIYTP8IuS12c6cLoMiubLDVBCCDGWX5T8iZH5+MVS8kII8Rf8\nouSPV7cRFhrEggyf3VJHCCFMYfmSb+no51xbHwVZCQQHWf6XI4QQXmX5VjxRPbp0UqZqhBBiPOuX\nfJWUvBBCXIilS97lMiitaScxNpzUhAiz4wghhM+xdMlXn3VvZVA0P0G2MhBCiPOwdMmX1rinauQB\nIUIIcX6WLvlTZzoAUFmylYEQQpyPZUve4XRRVtdBZlIUcVGhk3+CEEIEIMuWfGVDF0PDLvJlFC+E\nEBdk2ZI/VdMOQL7sOimEEBdk3ZI/044NUFnxZkcRQgifZcmSHxp2Ul7fxbyUaNlaWAghJmDJkq+o\n78ThdMlUjRBCTMKSJV86snRSSl4IISZmyZI/daYdu82Gmifz8UIIMRHLlfzAkIOqhi6y02KICAs2\nO44QQvg0y5V8eV0nTpdBfraM4oUQYjKWK/nSkfXxBTIfL4QQk7JcyZ86006Q3UZepozkhRBiMpYq\n+f5BB9Vnu5mfHktYaJDZcYQQwudZquQrGjoxDFgkq2qEEMIjlir507Xu9fGL5sWZnEQIIazBozWI\nSqmHgYsAA7hHa31gzLErgPsAJ7BDa33vTAQFOF3biQ1YmCklL4QQnph0JK+U2gzkaa3XA3cBj4w7\n5RHgZmADsFUpVej1lMCww0VlQxdzU6KJDJf9aoQQwhOeTNdsAV4C0FqXAglKqVgApdQCoE1rXau1\ndgE7Rs73uuqzXTicLhbNlfl4IYTwlCfTNWnAoTEfN4+81jXy/+Yxx5qA3Em+ni05OWYqGQFITo7h\n1RXzpvx5M2E6+X2J5DeXlfNbOTtYP/90TOeNV9s0jwkhhJhlnpR8A+4R+6gMoPECxzJHXhNCCOED\nPCn5t4HtAEqplUCD1robQGtdDcQqpXKUUsHAtpHzhRBC+ACbYRiTnqSU+iGwCXABXwNWAJ1a6xeV\nUpuAH42c+rzW+oGZCiuEEGJqPCp5IYQQ1mSpO16FEEJMjZS8EEL4sVl5tNLIXbPPAn+rtX7tPMfv\nAP4e95z/r7TWv5mNXJ5QSoUAjwHZuLdu+KLWunLcOcPAnjEvbdFaO2ct5Hn4ylYU0zVJ/mqgFnd+\ngDu01vWznXEiSqnFwMvAw1rrX4w7ZoXrP1H+anz/+v8Y2Ii74+7XWr8w5pgVrv9E+auZwvWf8ZJX\nSuUC3+YvS3Ds8Sjg+8BaYAg4oJR6UWvdNtPZPHQ70KG1vkMptRW4H7ht3DmdWutLZz3ZBYzdikIp\nVQD8Flg/5pRHgCuBeuB9pdTzWuuTJkQ9Lw/yA1ytte6Z/XSTG/kz/XNg5wVO8fXrP1l+8O3rfxmw\neOTPTyJwBHhhzCm+fv0nyw9TuP6zMV3TCNwEdF7g+DrggNa6U2vdj/sfgw2zkMtTW4AXR378Dr6V\n7UJ8YiuKT+CC+S1iELiG89wzYpHrf8H8FrELuGXkxx1AlFIqCCxz/S+YfzpmfCSvte4DUEpd6JTz\nbY2QPsOxpuLjfFprl1LKUEqFaq2HxpwTrpR6AveUzvNa64fMCDqGt7eimG0T5R/1qFIqB/gA+K7W\n2meWiWmtHYDjAn/mff76T5J/lC9ffyfQO/LhXbinZEanNqxw/SfKP8rj6+/VkldKfQn40riX/4/W\n+q0pfBnTtka4QP514z4+X75/BB7HPX+8Sym1S2t9cAYiTpfVt6IYn/H7wJtAG+4R/83Ac7Mdykus\ncP3Hs8T1V0rdgLskt05wms9e/wnyT+n6e7Xktda/Bn49xU8739YI+7wWagrOl18p9RjufMUjb8La\nxo3i0Vo/Oub8ncASwMySt/pWFBPlR2v9h9EfK6V24L7ePlcyF2CF6z8hK1x/pdSVwPeAq7TWY6eK\nLXH9J8g/5evvC0soPwLWKKXilVLRuOe8d5ucaay3+fP82HXAn8YeVG5PKKVsI1s7bABOzHLG8ay+\nFcUF8yul4pRSbymlQkfO3QwcNyfm1Fnk+l+QFa6/UioO+AmwbfwCDitc/4nyT+f6z/gdr0qpa4F/\nAvJxz4U1aq23KqX+GXhfa/2hUmr7yDkG8HOt9X/PaKgpGHnD49dAHu43pO7UWteOy/8j4HLcS0Bf\n0Vr/q3mJ3ay+FcUk+e8BvgD041558A1fmhNWSq0CHgRygGHcqzheAaqscP09yO/r1/9u4AfA6TEv\nvwuUWOT6T5Z/StdftjUQQgg/5gvTNUIIIWaIlLwQQvgxKXkhhPBjUvJCCOHHpOSFEMKPSckLIYQf\nk5IXQgg/9v8BJeId/edrzK0AAAAASUVORK5CYII=\n",
            "text/plain": [
              "<matplotlib.figure.Figure at 0x7f8280837590>"
            ]
          },
          "metadata": {
            "tags": []
          }
        }
      ]
    },
    {
      "metadata": {
        "id": "zCkfmuzb54At",
        "colab_type": "text"
      },
      "cell_type": "markdown",
      "source": [
        "Podemos ver no gráfico acima que nosso mínimo local estará próximo de 1,4 ou 1,5 (no eixo x), mas vamos fingir que não sabemos disso, então definimos nosso ponto de partida (arbitrariamente, neste caso) a $x_0 = 2$"
      ]
    },
    {
      "metadata": {
        "id": "aO7cz_RM54At",
        "colab_type": "code",
        "outputId": "43b14068-2ba3-479c-f6ba-9b5ecdc6c5e5",
        "colab": {
          "base_uri": "https://localhost:8080/",
          "height": 54
        }
      },
      "cell_type": "code",
      "source": [
        "x_old = 0\n",
        "x_new = 2 # O algoritmo começa em x=2\n",
        "n_k = 0.1 # tamanho do passo\n",
        "precision = 0.0001\n",
        "\n",
        "x_list, y_list = [x_new], [f(x_new)]\n",
        "\n",
        "# retorna o valor da derivada da nossa função\n",
        "def f_prime(x):\n",
        "    return 3*x**2-4*x\n",
        " \n",
        "while abs(x_new - x_old) > precision:\n",
        "    x_old = x_new\n",
        "    s_k = -f_prime(x_old)\n",
        "    x_new = x_old + n_k * s_k\n",
        "    x_list.append(x_new)\n",
        "    y_list.append(f(x_new))\n",
        "print \"Local minimum occurs at:\", x_new\n",
        "print \"Number of steps:\", len(x_list)"
      ],
      "execution_count": 0,
      "outputs": [
        {
          "output_type": "stream",
          "text": [
            "Local minimum occurs at: 1.33342535085\n",
            "Number of steps: 17\n"
          ],
          "name": "stdout"
        }
      ]
    },
    {
      "metadata": {
        "id": "PFLOqAqp54Aw",
        "colab_type": "text"
      },
      "cell_type": "markdown",
      "source": [
        "As figuras abaixo mostram a rota que foi usada para encontrar o mínimo local."
      ]
    },
    {
      "metadata": {
        "id": "BRr00chA54Ax",
        "colab_type": "code",
        "outputId": "4d78b891-91c0-4791-a382-a78f3bf2c9ca",
        "colab": {
          "base_uri": "https://localhost:8080/",
          "height": 226
        }
      },
      "cell_type": "code",
      "source": [
        "plt.figure(figsize=[10,3])\n",
        "plt.subplot(1,2,1)\n",
        "plt.scatter(x_list,y_list,c=\"r\")\n",
        "plt.plot(x_list,y_list,c=\"r\")\n",
        "plt.plot(x,f(x), c=\"b\")\n",
        "plt.xlim([-1,2.5])\n",
        "plt.ylim([0,3])\n",
        "plt.title(\"Metodo gradiente\")\n",
        "plt.subplot(1,2,2)\n",
        "plt.scatter(x_list,y_list,c=\"r\")\n",
        "plt.plot(x_list,y_list,c=\"r\")\n",
        "plt.plot(x,f(x), c=\"b\")\n",
        "plt.xlim([1.2,2.1])\n",
        "plt.ylim([0,3])\n",
        "plt.title(\"Metodo gradiente (ampliado)\")\n",
        "plt.show()"
      ],
      "execution_count": 0,
      "outputs": [
        {
          "output_type": "display_data",
          "data": {
            "image/png": "iVBORw0KGgoAAAANSUhEUgAAAlEAAADRCAYAAADsU+cvAAAABHNCSVQICAgIfAhkiAAAAAlwSFlz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\niIga0oiKiIiIqOEfWrW9Uhj13eMAAAAASUVORK5CYII=\n",
            "text/plain": [
              "<matplotlib.figure.Figure at 0x7f8283541d90>"
            ]
          },
          "metadata": {
            "tags": []
          }
        }
      ]
    },
    {
      "metadata": {
        "id": "QAgA8DxG54A0",
        "colab_type": "text"
      },
      "cell_type": "markdown",
      "source": [
        "Você notará que o tamanho da etapa (também chamado de taxa de aprendizado) na implementação acima é constante, ao contrário do algoritmo no pseudocódigo. Isso facilita a implementação do algoritmo. No entanto, ele também apresenta alguns problemas: Se o tamanho da etapa for muito pequeno, a convergência será muito lenta, mas se a tornarmos muito grande, o método poderá não convergir.\n",
        "\n",
        "Uma solução para isso é usar tamanhos de passos adaptáveis, como o algoritmo abaixo faz (usando a função fmin do scipy para encontrar tamanhos de passos ótimos):"
      ]
    },
    {
      "metadata": {
        "id": "dUbLZIUP54A0",
        "colab_type": "code",
        "outputId": "3cce17d3-0c06-4617-9ca2-bd02f3162316",
        "colab": {
          "base_uri": "https://localhost:8080/",
          "height": 54
        }
      },
      "cell_type": "code",
      "source": [
        "# nós configuramos essa função para passar para o algoritmo fmin\n",
        "def f2(n,x,s):\n",
        "    x = x + n*s\n",
        "    return f(x)\n",
        "\n",
        "x_old = 0\n",
        "x_new = 2 # O algoritmo começa em x=2\n",
        "precision = 0.0001\n",
        "\n",
        "x_list, y_list = [x_new], [f(x_new)]\n",
        "\n",
        "# retorna o valor da derivada da nossa função\n",
        "def f_prime(x):\n",
        "    return 3*x**2-4*x\n",
        "\n",
        "while abs(x_new - x_old) > precision:\n",
        "    x_old = x_new\n",
        "    s_k = -f_prime(x_old)\n",
        "    \n",
        "    # use a função scipy fmin para encontrar o tamanho ideal do passo.\n",
        "    n_k = fmin(f2,0.1,(x_old,s_k), full_output = False, disp = False)\n",
        "\n",
        "    x_new = x_old + n_k * s_k\n",
        "    x_list.append(x_new)\n",
        "    y_list.append(f(x_new))\n",
        "    \n",
        "print \"Local minimum occurs at \", float(x_new)\n",
        "print \"Number of steps:\", len(x_list)"
      ],
      "execution_count": 0,
      "outputs": [
        {
          "output_type": "stream",
          "text": [
            "Local minimum occurs at  1.33333332845\n",
            "Number of steps: 4\n"
          ],
          "name": "stdout"
        }
      ]
    },
    {
      "metadata": {
        "id": "rc5IZCsR54A3",
        "colab_type": "text"
      },
      "cell_type": "markdown",
      "source": [
        "Com tamanhos de passos adaptáveis, o algoritmo converge em apenas 4 iterações, em vez de 17. É claro que leva tempo para calcular o tamanho do passo apropriado em cada iteração. Aqui estão alguns trechos do caminho feito abaixo. Você pode ver que converge muito rapidamente para um ponto perto do mínimo local, por isso é difícil até mesmo discernir os pontos após os dois primeiros passos até que o zoom fique bem próximo no terceiro quadro abaixo:"
      ]
    },
    {
      "metadata": {
        "id": "Ym5H5r8s54A4",
        "colab_type": "code",
        "outputId": "19d29419-e847-4ebf-da61-bb606d596b58",
        "colab": {
          "base_uri": "https://localhost:8080/",
          "height": 239
        }
      },
      "cell_type": "code",
      "source": [
        "plt.figure(figsize=[15,3])\n",
        "plt.subplot(1,3,1)\n",
        "plt.scatter(x_list,y_list,c=\"r\")\n",
        "plt.plot(x_list,y_list,c=\"r\")\n",
        "plt.plot(x,f(x), c=\"b\")\n",
        "plt.xlim([-1,2.5])\n",
        "plt.title(\"Metodo gradiente\")\n",
        "plt.subplot(1,3,2)\n",
        "plt.scatter(x_list,y_list,c=\"r\")\n",
        "plt.plot(x_list,y_list,c=\"r\")\n",
        "plt.plot(x,f(x), c=\"b\")\n",
        "plt.xlim([1.2,2.1])\n",
        "plt.ylim([0,3])\n",
        "plt.title(\"ampliado\")\n",
        "plt.subplot(1,3,3)\n",
        "plt.scatter(x_list,y_list,c=\"r\")\n",
        "plt.plot(x_list,y_list,c=\"r\")\n",
        "plt.plot(x,f(x), c=\"b\")\n",
        "plt.xlim([1.3333,1.3335])\n",
        "plt.ylim([0,3])\n",
        "plt.title(\"mais ampliado\")\n",
        "plt.show()"
      ],
      "execution_count": 0,
      "outputs": [
        {
          "output_type": "display_data",
          "data": {
            "image/png": "iVBORw0KGgoAAAANSUhEUgAAA3oAAADeCAYAAABrNnIdAAAABHNCSVQICAgIfAhkiAAAAAlwSFlz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\nZd4+Wy0AAAAASUVORK5CYII=\n",
            "text/plain": [
              "<matplotlib.figure.Figure at 0x7f82833e86d0>"
            ]
          },
          "metadata": {
            "tags": []
          }
        }
      ]
    },
    {
      "metadata": {
        "id": "DkFp8idl54A7",
        "colab_type": "text"
      },
      "cell_type": "markdown",
      "source": [
        "Outra abordagem para atualizar o tamanho da etapa é escolher uma constante de redução $d$ que reduz o tamanho do passo ao longo do tempo:\n",
        "$\\eta(t+1) = \\eta(t) / (1+t \\times d)$."
      ]
    },
    {
      "metadata": {
        "id": "QhTBRBOq54A8",
        "colab_type": "code",
        "outputId": "dba68ae8-7820-4852-c8b2-806e0f7c74c4",
        "colab": {
          "base_uri": "https://localhost:8080/",
          "height": 54
        }
      },
      "cell_type": "code",
      "source": [
        "x_old = 0\n",
        "x_new = 2 # The algorithm starts at x=2\n",
        "n_k = 0.17 # step size\n",
        "precision = 0.0001\n",
        "t, d = 0, 1\n",
        "\n",
        "x_list, y_list = [x_new], [f(x_new)]\n",
        "\n",
        "# returns the value of the derivative of our function\n",
        "def f_prime(x):\n",
        "    return 3*x**2-4*x\n",
        " \n",
        "while abs(x_new - x_old) > precision:\n",
        "    x_old = x_new\n",
        "    s_k = -f_prime(x_old)\n",
        "    x_new = x_old + n_k * s_k\n",
        "    x_list.append(x_new)\n",
        "    y_list.append(f(x_new))\n",
        "    n_k = n_k / (1 + t * d)\n",
        "    t += 1\n",
        "\n",
        "print \"Local minimum occurs at:\", x_new\n",
        "print \"Number of steps:\", len(x_list)"
      ],
      "execution_count": 0,
      "outputs": [
        {
          "output_type": "stream",
          "text": [
            "Local minimum occurs at: 1.33085067409\n",
            "Number of steps: 6\n"
          ],
          "name": "stdout"
        }
      ]
    },
    {
      "metadata": {
        "id": "ecSGY7Du54A-",
        "colab_type": "text"
      },
      "cell_type": "markdown",
      "source": [
        "Vamos agora considerar um exemplo que é um pouco mais complicado. Considere uma regressão linear simples onde queremos ver como a temperatura afeta os ruídos feitos pelos grilos. Temos um conjunto de dados de taxas de chilrear de críquete em várias temperaturas. Primeiro, vamos carregar esse conjunto de dados e plotá-lo:"
      ]
    },
    {
      "metadata": {
        "id": "Xr1WSBbX54A_",
        "colab_type": "code",
        "outputId": "acfd16ee-cc7c-40be-d136-4931c5001d76",
        "colab": {
          "base_uri": "https://localhost:8080/",
          "height": 295
        }
      },
      "cell_type": "code",
      "source": [
        "#Carregando o conjunto de dados\n",
        "data = np.loadtxt('SGD_data.txt', delimiter=',') #Se estiver no colaboratory considere aprender a carregar o arquivo antes\n",
        " \n",
        "#Imprimindo o arquivo\n",
        "plt.scatter(data[:, 0], data[:, 1], marker='o', c='b')\n",
        "plt.title('cricket chirps vs temperatura')\n",
        "plt.xlabel('chirps/seg for striped ground crickets')\n",
        "plt.ylabel('temperatura em graus Fahrenheit')\n",
        "plt.xlim([13,21])\n",
        "plt.ylim([65,95])\n",
        "plt.show()"
      ],
      "execution_count": 0,
      "outputs": [
        {
          "output_type": "display_data",
          "data": {
            "image/png": "iVBORw0KGgoAAAANSUhEUgAAAYMAAAEVCAYAAAACW4lMAAAABHNCSVQICAgIfAhkiAAAAAlwSFlz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\nZuZkYGZmOBmYmRlOBmZmhpOBmZkB/w9vxMLOH/PK2AAAAABJRU5ErkJggg==\n",
            "text/plain": [
              "<matplotlib.figure.Figure at 0x7f82833f7b50>"
            ]
          },
          "metadata": {
            "tags": []
          }
        }
      ]
    },
    {
      "metadata": {
        "id": "C43DMrrr54BC",
        "colab_type": "text"
      },
      "cell_type": "markdown",
      "source": [
        "Nosso objetivo é encontrar a equação da reta line $h_\\theta(x) = \\theta_0 + \\theta_1 x$ que melhor se adapta aos nossos pontos de dados. A função que estamos tentando minimizar nesse caso é:\n",
        "\n",
        "$J(\\theta_0,\\theta_1) = {1 \\over 2m} \\sum\\limits_{i=1}^m (h_\\theta(x_i)-y_i)^2$\n",
        "\n",
        "Nesse caso, nosso gradiente será definido em duas dimensões:\n",
        "\n",
        "$\\frac{\\partial}{\\partial \\theta_0} J(\\theta_0,\\theta_1) = \\frac{1}{m}  \\sum\\limits_{i=1}^m (h_\\theta(x_i)-y_i)$\n",
        "\n",
        "$\\frac{\\partial}{\\partial \\theta_1} J(\\theta_0,\\theta_1) = \\frac{1}{m}  \\sum\\limits_{i=1}^m ((h_\\theta(x_i)-y_i) \\cdot x_i)$\n",
        "\n",
        "Abaixo, configuramos nossa função para h, J e o gradiente:"
      ]
    },
    {
      "metadata": {
        "id": "3X5z21J354BD",
        "colab_type": "code",
        "colab": {}
      },
      "cell_type": "code",
      "source": [
        "h = lambda theta_0,theta_1,x: theta_0 + theta_1*x\n",
        "\n",
        "def J(x,y,m,theta_0,theta_1):\n",
        "    returnValue = 0\n",
        "    for i in range(m):\n",
        "        returnValue += (h(theta_0,theta_1,x[i])-y[i])**2\n",
        "    returnValue = returnValue/(2*m)\n",
        "    return returnValue\n",
        "\n",
        "def grad_J(x,y,m,theta_0,theta_1):\n",
        "    returnValue = np.array([0.,0.])\n",
        "    for i in range(m):\n",
        "        returnValue[0] += (h(theta_0,theta_1,x[i])-y[i])\n",
        "        returnValue[1] += (h(theta_0,theta_1,x[i])-y[i])*x[i]\n",
        "    returnValue = returnValue/(m)\n",
        "    return returnValue"
      ],
      "execution_count": 0,
      "outputs": []
    },
    {
      "metadata": {
        "id": "mENu7skI54BF",
        "colab_type": "text"
      },
      "cell_type": "markdown",
      "source": [
        "Agora, vamos carregar nossos dados nas variáveis x e y;"
      ]
    },
    {
      "metadata": {
        "id": "EmTmUtaL54BG",
        "colab_type": "code",
        "colab": {}
      },
      "cell_type": "code",
      "source": [
        "x = data[:, 0]\n",
        "y = data[:, 1]\n",
        "m = len(x)"
      ],
      "execution_count": 0,
      "outputs": []
    },
    {
      "metadata": {
        "id": "2nXdyAtw54BI",
        "colab_type": "text"
      },
      "cell_type": "markdown",
      "source": [
        "E nós executamos nosso algoritmo de gradiente descendente (sem tamanhos de passo adaptáveis neste exemplo):"
      ]
    },
    {
      "metadata": {
        "id": "nNJYVFCy54BJ",
        "colab_type": "code",
        "outputId": "121ebe0f-3726-4d29-9d87-f616990a7cd2",
        "colab": {
          "base_uri": "https://localhost:8080/",
          "height": 90
        }
      },
      "cell_type": "code",
      "source": [
        "theta_old = np.array([0.,0.])\n",
        "theta_new = np.array([1.,1.]) # The algorithm starts at [1,1]\n",
        "n_k = 0.001 # tamanho do passo\n",
        "precision = 0.001\n",
        "num_steps = 0\n",
        "s_k = float(\"inf\")\n",
        "\n",
        "while np.linalg.norm(s_k) > precision:\n",
        "    num_steps += 1\n",
        "    theta_old = theta_new\n",
        "    s_k = -grad_J(x,y,m,theta_old[0],theta_old[1])\n",
        "    theta_new = theta_old + n_k * s_k\n",
        "\n",
        "print \"Minimo local ocorre onde:\"\n",
        "print \"theta_0 =\", theta_new[0] \n",
        "print \"theta_1 =\", theta_new[1]\n",
        "print \"Isso levou\",num_steps,\"etapas para convergir\""
      ],
      "execution_count": 0,
      "outputs": [
        {
          "output_type": "stream",
          "text": [
            "Minimo local ocorre onde:\n",
            "theta_0 = 25.128552558595363\n",
            "theta_1 = 3.297264756251897\n",
            "Isso levou 565859 etapas para convergir\n"
          ],
          "name": "stdout"
        }
      ]
    },
    {
      "metadata": {
        "id": "wD_F7Wi954BO",
        "colab_type": "text"
      },
      "cell_type": "markdown",
      "source": [
        "Para comparação, vamos obter os valores reais para $\\theta_0$ and $\\theta_1$:"
      ]
    },
    {
      "metadata": {
        "id": "-vNUY6Sn54BP",
        "colab_type": "code",
        "outputId": "9f679767-a8ea-4142-baa3-e19067f5fca7",
        "colab": {
          "base_uri": "https://localhost:8080/",
          "height": 72
        }
      },
      "cell_type": "code",
      "source": [
        "actualvalues = sp.stats.linregress(x,y)\n",
        "print \"Valores reais para theta são:\"\n",
        "print \"theta_0 =\", actualvalues.intercept\n",
        "print \"theta_1 =\", actualvalues.slope"
      ],
      "execution_count": 0,
      "outputs": [
        {
          "output_type": "stream",
          "text": [
            "Valores reais para theta são:\n",
            "theta_0 = 25.232304983426026\n",
            "theta_1 = 3.2910945679475647\n"
          ],
          "name": "stdout"
        }
      ]
    },
    {
      "metadata": {
        "id": "Z3HCCGSK54BT",
        "colab_type": "text"
      },
      "cell_type": "markdown",
      "source": [
        "So we see that our values are relatively close to the actual values (even though our method was pretty slow). If you look at the source code of [linregress](https://github.com/scipy/scipy/blob/master/scipy/stats/_stats_mstats_common.py), it uses the convariance matrix of x and y to compute fastly. Below, you can see a plot of the line drawn with our theta values against the data:"
      ]
    },
    {
      "metadata": {
        "id": "q-d6ELcm54BU",
        "colab_type": "code",
        "outputId": "72eb3f6a-5e09-49da-f2fb-5f0f3c8ab566",
        "colab": {
          "base_uri": "https://localhost:8080/",
          "height": 295
        }
      },
      "cell_type": "code",
      "source": [
        "xx = np.linspace(0,21,1000)\n",
        "plt.scatter(data[:, 0], data[:, 1], marker='o', c='b')\n",
        "plt.plot(xx,h(theta_new[0],theta_new[1],xx))\n",
        "plt.xlim([13,21])\n",
        "plt.ylim([65,95])\n",
        "plt.title('cricket chirps vs temperatura')\n",
        "plt.xlabel('chirps/sec for striped ground crickets')\n",
        "plt.ylabel('temperatura em graus Fahrenheite')\n",
        "plt.show()"
      ],
      "execution_count": 0,
      "outputs": [
        {
          "output_type": "display_data",
          "data": {
            "image/png": "iVBORw0KGgoAAAANSUhEUgAAAYMAAAEVCAYAAAACW4lMAAAABHNCSVQICAgIfAhkiAAAAAlwSFlz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\nRK5CYII=\n",
            "text/plain": [
              "<matplotlib.figure.Figure at 0x7f82833bebd0>"
            ]
          },
          "metadata": {
            "tags": []
          }
        }
      ]
    },
    {
      "metadata": {
        "id": "WRh4auTU54BY",
        "colab_type": "text"
      },
      "cell_type": "markdown",
      "source": [
        "Observe que, no método acima, precisamos calcular o gradiente em cada etapa do nosso algoritmo. No exemplo dos grilos, isso não é grande coisa, pois há apenas 15 pontos de dados. Mas imagine que tivéssemos 10 milhões de pontos de dados. Se este fosse o caso, certamente tornaria o método acima muito menos eficiente.\n",
        "\n",
        "Em aprendizado de máquina, o algoritmo acima é freqüentemente chamado de <b> gradiente descendente em lote </b> para contrastar com <b> gradiente descendente em mini-lote </b> (que não veremos aqui) e <b> estocástico descida gradiente </b>."
      ]
    },
    {
      "metadata": {
        "id": "y4CO1ei454BY",
        "colab_type": "text"
      },
      "cell_type": "markdown",
      "source": [
        "### Descida de gradiente estocástica"
      ]
    },
    {
      "metadata": {
        "id": "1pmvDKpF54BZ",
        "colab_type": "text"
      },
      "cell_type": "markdown",
      "source": [
        "Como dissemos acima, na descida gradiente em lote, devemos observar todos os exemplos em todo o conjunto de treinamento em cada etapa (nos casos em que um conjunto de treinamento é usado para gradiente de descida). Isso pode ser bastante lento se o conjunto de treinamento for suficientemente grande. No <b> gradiente descendente estocástico </b>, atualizamos nossos valores depois de olhar para <i> cada </ i> item no conjunto de treinamento, para que possamos começar a progredir imediatamente. Lembre-se do exemplo de regressão linear acima. Nesse exemplo, calculamos o gradiente para cada um dos dois valores teta da seguinte forma:\n",
        "\n",
        "$\\frac{\\partial}{\\partial \\theta_0} J(\\theta_0,\\theta_1) = \\frac{1}{m}  \\sum\\limits_{i=1}^m (h_\\theta(x_i)-y_i)$\n",
        "\n",
        "$\\frac{\\partial}{\\partial \\theta_1} J(\\theta_0,\\theta_1) = \\frac{1}{m}  \\sum\\limits_{i=1}^m ((h_\\theta(x_i)-y_i) \\cdot x_i)$\n",
        "\n",
        "Onde $h_\\theta(x) = \\theta_0 + \\theta_1 x$\n",
        "\n",
        "Então seguimos esse algoritmo (onde $\\alpha$ era um tamanho não adaptativo):\n",
        "\n",
        "&nbsp;&nbsp;&nbsp; 1: &nbsp; Choose initial guess $x_0$ <br>\n",
        "&nbsp;&nbsp;&nbsp;    2: &nbsp; <b>for</b> k = 0, 1, 2, ... <b>do</b> <br>\n",
        "&nbsp;&nbsp;&nbsp;    3:   &nbsp;&nbsp;&nbsp;&nbsp;&nbsp; $s_k$ = -$\\nabla f(x_k)$ <br>\n",
        "&nbsp;&nbsp;&nbsp;    4:   &nbsp;&nbsp;&nbsp;&nbsp;&nbsp; $x_{k+1} = x_k + \\alpha s_k$ <br>\n",
        "&nbsp;&nbsp;&nbsp;    5: &nbsp;  <b>end for</b>\n",
        "\n",
        "Quando os dados da amostra tinham 15 pontos de dados, como no exemplo acima, calcular o gradiente não era muito caro. Mas para conjuntos de dados muito grandes, isso não seria o caso. Então, em vez disso, consideramos um algoritmo de descida de gradiente estocástico para regressão linear simples, como a seguir, em que <b>m</b> é o tamanho do conjunto de dados:\n",
        "&nbsp;&nbsp;&nbsp; 1: &nbsp; Randomly shuffle the data set <br>\n",
        "&nbsp;&nbsp;&nbsp;    2: &nbsp; <b>for</b> k = 0, 1, 2, ... <b>do</b> <br>\n",
        "&nbsp;&nbsp;&nbsp;    3: &nbsp;&nbsp;&nbsp;&nbsp;&nbsp; <b>for</b> i = 1 to m <b>do</b> <br>\n",
        "&nbsp;&nbsp;&nbsp;    4:   &nbsp;&nbsp;&nbsp;&nbsp;&nbsp;&nbsp;&nbsp;&nbsp;&nbsp;&nbsp; $\\begin{bmatrix}\n",
        " \\theta_{1} \\\\ \n",
        " \\theta_2 \\\\ \n",
        " \\end{bmatrix}=\\begin{bmatrix}\n",
        " \\theta_1 \\\\ \n",
        " \\theta_2 \\\\ \n",
        " \\end{bmatrix}-\\alpha\\begin{bmatrix}\n",
        " 2(h_\\theta(x_i)-y_i) \\\\ \n",
        " 2x_i(h_\\theta(x_i)-y_i) \\\\ \n",
        " \\end{bmatrix}$ <br>\n",
        "&nbsp;&nbsp;&nbsp;    5: &nbsp;&nbsp;&nbsp;&nbsp;&nbsp; <b>end for</b> <br> \n",
        "&nbsp;&nbsp;&nbsp;    6: &nbsp;  <b>end for</b>\n",
        "\n",
        "Normalmente, com gradiente estocástico, você percorrerá todo o conjunto de dados de 1 a 10 vezes (veja o valor de k na linha 2 do pseudocódigo acima), dependendo de quão rápido os dados estão convergindo e de quão grande é o conjunto de dados.\n",
        "\n",
        "Com a descida em gradiente em lote, devemos percorrer todo o conjunto de dados antes de avançarmos. Com esse algoritmo, no entanto, podemos progredir imediatamente e continuar progredindo à medida que passamos pelo conjunto de dados. Portanto, a descida de gradiente estocástica é geralmente preferida quando se lida com grandes conjuntos de dados.\n",
        "\n",
        "Ao contrário da descida de gradiente, a descida de gradiente estocástica tenderá a oscilar próximo de um valor mínimo em vez de se aproximar continuamente. Pode nunca, na verdade, convergir para o mínimo. Uma maneira de contornar isso é diminuir lentamente o tamanho da etapa $\\alpha$ como o algoritmo é executado. No entanto, isso é menos comum do que usar um $\\alpha$.\n",
        "\n",
        "Vejamos outro exemplo onde ilustramos o uso de gradiente estocástico para regressão linear. No exemplo abaixo, criaremos um conjunto de 500,000 pontos ao redor da linha $y = 2x+17+\\epsilon$, para valores de x entre 0 e 100:"
      ]
    },
    {
      "metadata": {
        "id": "da2yajXO54Ba",
        "colab_type": "code",
        "colab": {}
      },
      "cell_type": "code",
      "source": [
        "f = lambda x: x*2+17+np.random.randn(len(x))*10\n",
        "\n",
        "x = np.random.random(500000)*100\n",
        "y = f(x) \n",
        "m = len(y)"
      ],
      "execution_count": 0,
      "outputs": []
    },
    {
      "metadata": {
        "id": "BfSJuq8-54Bb",
        "colab_type": "text"
      },
      "cell_type": "markdown",
      "source": [
        "Primeiro, vamos aleatoriamente ao redor do nosso conjunto de dados. Observe que neste exemplo, essa etapa não é estritamente necessária, pois os dados já estão em uma ordem aleatória. No entanto, isso obviamente nem sempre é o caso:"
      ]
    },
    {
      "metadata": {
        "id": "UW_KpDnE54Bd",
        "colab_type": "code",
        "colab": {}
      },
      "cell_type": "code",
      "source": [
        "from random import shuffle\n",
        "\n",
        "x_shuf = []\n",
        "y_shuf = []\n",
        "index_shuf = range(len(x))\n",
        "shuffle(index_shuf)\n",
        "for i in index_shuf:\n",
        "    x_shuf.append(x[i])\n",
        "    y_shuf.append(y[i])"
      ],
      "execution_count": 0,
      "outputs": []
    },
    {
      "metadata": {
        "id": "TT1PXVbu54Bf",
        "colab_type": "text"
      },
      "cell_type": "markdown",
      "source": [
        "Agora vamos configurar nossa função h e nossa função de custo, que usaremos para verificar como o valor está melhorando."
      ]
    },
    {
      "metadata": {
        "id": "AIT3-2Ew54Bg",
        "colab_type": "code",
        "colab": {}
      },
      "cell_type": "code",
      "source": [
        "h = lambda theta_0,theta_1,x: theta_0 + theta_1*x\n",
        "cost = lambda theta_0,theta_1, x_i, y_i: 0.5*(h(theta_0,theta_1,x_i)-y_i)**2"
      ],
      "execution_count": 0,
      "outputs": []
    },
    {
      "metadata": {
        "id": "Xq0K8jHc54Bh",
        "colab_type": "text"
      },
      "cell_type": "markdown",
      "source": [
        "Agora vamos executar nosso algoritmo de descida de gradiente estocástico. Para ver o progresso, faremos uma medição de custos em cada etapa. Cada 10,000 passos, nós vamos ter um custo médio a partir do último 10,000 etapas e, em seguida, acrescentar isso à nossa variável cost_list. Vamos percorrer toda a lista 10 vezes:"
      ]
    },
    {
      "metadata": {
        "id": "yJnNTGqP54Bi",
        "colab_type": "code",
        "outputId": "a7bdc9ca-eca2-4bfc-9a35-ba7bdb2bca10",
        "colab": {
          "base_uri": "https://localhost:8080/",
          "height": 72
        }
      },
      "cell_type": "code",
      "source": [
        "theta_old = np.array([0.,0.])\n",
        "theta_new = np.array([1.,1.]) # O algoritmo começa em [1,1]\n",
        "n_k = 0.000005 # tamanho do passo\n",
        "\n",
        "iter_num = 0\n",
        "s_k = np.array([float(\"inf\"),float(\"inf\")])\n",
        "sum_cost = 0\n",
        "cost_list = []\n",
        "\n",
        "for j in range(10):\n",
        "    for i in range(m):\n",
        "        iter_num += 1\n",
        "        theta_old = theta_new\n",
        "        s_k[0] = (h(theta_old[0],theta_old[1],x[i])-y[i])\n",
        "        s_k[1] = (h(theta_old[0],theta_old[1],x[i])-y[i])*x[i]\n",
        "        s_k = (-1)*s_k\n",
        "        theta_new = theta_old + n_k * s_k\n",
        "        sum_cost += cost(theta_old[0],theta_old[1],x[i],y[i])\n",
        "        if (i+1) % 10000 == 0:\n",
        "            cost_list.append(sum_cost/10000.0)\n",
        "            sum_cost = 0   \n",
        "            \n",
        "print \"Mínimo local ocorre onde:\"\n",
        "print \"theta_0 =\", theta_new[0] \n",
        "print \"theta_1 =\", theta_new[1]"
      ],
      "execution_count": 0,
      "outputs": [
        {
          "output_type": "stream",
          "text": [
            "Mínimo local ocorre onde:\n",
            "theta_0 = 16.95774406106127\n",
            "theta_1 = 2.01497818709861\n"
          ],
          "name": "stdout"
        }
      ]
    },
    {
      "metadata": {
        "id": "ZldMmk8o54Bk",
        "colab_type": "text"
      },
      "cell_type": "markdown",
      "source": [
        "Como você pode ver, nossos valores para $\\theta_0$ and $\\theta_1$ estão perto de seus verdadeiros valores 17 e 2.\n",
        "Agora, plotamos nosso custo em relação ao número de iterações. Como você pode ver, o custo cai rapidamente no começo, mas começa a estabilizar conforme passamos por mais iterações:"
      ]
    },
    {
      "metadata": {
        "id": "6Gm2ydUD54Bm",
        "colab_type": "code",
        "outputId": "cd5866bf-1f8a-425c-d83e-5dab41ee9ee0",
        "colab": {
          "base_uri": "https://localhost:8080/",
          "height": 279
        }
      },
      "cell_type": "code",
      "source": [
        "iterations = np.arange(len(cost_list))*10000\n",
        "plt.plot(iterations,cost_list)\n",
        "plt.xlabel(\"Iteracoes\")\n",
        "plt.ylabel(\"avg custo\") #oq é avg?\n",
        "plt.show()"
      ],
      "execution_count": 0,
      "outputs": [
        {
          "output_type": "display_data",
          "data": {
            "image/png": "iVBORw0KGgoAAAANSUhEUgAAAYIAAAEGCAYAAABo25JHAAAABHNCSVQICAgIfAhkiAAAAAlwSFlz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\nBEIIEeMkEAghRIz7/3AYJPQ9GBx5AAAAAElFTkSuQmCC\n",
            "text/plain": [
              "<matplotlib.figure.Figure at 0x7f827eed5d50>"
            ]
          },
          "metadata": {
            "tags": []
          }
        }
      ]
    },
    {
      "metadata": {
        "id": "tz2g4A-t54Bp",
        "colab_type": "text"
      },
      "cell_type": "markdown",
      "source": [
        " "
      ]
    }
  ]
}
